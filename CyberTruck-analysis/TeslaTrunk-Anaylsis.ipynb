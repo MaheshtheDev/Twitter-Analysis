{
 "cells": [
  {
   "cell_type": "code",
   "execution_count": 4,
   "metadata": {},
   "outputs": [],
   "source": [
    "import tweepy"
   ]
  },
  {
   "cell_type": "code",
   "execution_count": 5,
   "metadata": {},
   "outputs": [],
   "source": [
    "import pandas as pd\n",
    "import seaborn\n",
    "import matplotlib.pyplot as plt"
   ]
  },
  {
   "cell_type": "code",
   "execution_count": 6,
   "metadata": {},
   "outputs": [],
   "source": [
    "consumer_key = '#Your consumer key,which is available in your Twitter Developer Site' \n",
    "consumer_secret = '#Your consumer secret,which is available in your Twitter Developer Site'\n",
    "access_token = '#Your access token,which is available in your Twitter Developer Site'\n",
    "access_token_secret = '#Your access token secret code,which is available in your Twitter Developer Site'"
   ]
  },
  {
   "cell_type": "code",
   "execution_count": 7,
   "metadata": {},
   "outputs": [],
   "source": [
    "auth = tweepy.OAuthHandler(consumer_key, consumer_secret)\n",
    "auth.set_access_token(access_token, access_token_secret)"
   ]
  },
  {
   "cell_type": "code",
   "execution_count": 8,
   "metadata": {},
   "outputs": [],
   "source": [
    "api = tweepy.API(auth)"
   ]
  },
  {
   "cell_type": "code",
   "execution_count": 9,
   "metadata": {},
   "outputs": [],
   "source": [
    "def get_related_Tweet(key_word):\n",
    "    twitter_users = []\n",
    "    tweet_time = []\n",
    "    tweets = []\n",
    "    for tweet in tweepy.Cursor(api.search,q=key_word,count=1000).items(1000):\n",
    "        if (not tweet.retweeted) and ('RT @' not in tweet.text):\n",
    "            if tweet.lang == 'en':\n",
    "                twitter_users.append(tweet.user.name)\n",
    "                tweet_time.append(tweet.created_at)\n",
    "                tweets.append(tweet.text)\n",
    "        df = pd.DataFrame({'Name':twitter_users, 'Time': tweet_time, 'Tweet': tweets})\n",
    "    return df "
   ]
  },
  {
   "cell_type": "code",
   "execution_count": 10,
   "metadata": {},
   "outputs": [],
   "source": [
    "from textblob import TextBlob"
   ]
  },
  {
   "cell_type": "code",
   "execution_count": 11,
   "metadata": {},
   "outputs": [
    {
     "name": "stdout",
     "output_type": "stream",
     "text": [
      "Sentimental Score 0.5\n"
     ]
    }
   ],
   "source": [
    "sentimental_score= TextBlob('I Love the Tesla CyberTrunk').sentiment.polarity\n",
    "print(\"Sentimental Score\",sentimental_score)"
   ]
  },
  {
   "cell_type": "code",
   "execution_count": 15,
   "metadata": {},
   "outputs": [
    {
     "data": {
      "text/html": [
       "<div>\n",
       "<style scoped>\n",
       "    .dataframe tbody tr th:only-of-type {\n",
       "        vertical-align: middle;\n",
       "    }\n",
       "\n",
       "    .dataframe tbody tr th {\n",
       "        vertical-align: top;\n",
       "    }\n",
       "\n",
       "    .dataframe thead th {\n",
       "        text-align: right;\n",
       "    }\n",
       "</style>\n",
       "<table border=\"1\" class=\"dataframe\">\n",
       "  <thead>\n",
       "    <tr style=\"text-align: right;\">\n",
       "      <th></th>\n",
       "      <th>Name</th>\n",
       "      <th>Time</th>\n",
       "      <th>Tweet</th>\n",
       "      <th>Sentimental</th>\n",
       "    </tr>\n",
       "  </thead>\n",
       "  <tbody>\n",
       "    <tr>\n",
       "      <th>0</th>\n",
       "      <td>2 Cents</td>\n",
       "      <td>2019-12-04 06:43:27</td>\n",
       "      <td>*VEHICLE*\\n(Tesla Cybertruck)\\n1 ct = 0-60 in ...</td>\n",
       "      <td>-0.208333</td>\n",
       "    </tr>\n",
       "    <tr>\n",
       "      <th>1</th>\n",
       "      <td>Alex Stojkovic</td>\n",
       "      <td>2019-12-04 06:38:56</td>\n",
       "      <td>Make no mistake, Tesla’s Cybertruck  will comp...</td>\n",
       "      <td>0.100000</td>\n",
       "    </tr>\n",
       "    <tr>\n",
       "      <th>2</th>\n",
       "      <td>Frank</td>\n",
       "      <td>2019-12-04 06:38:05</td>\n",
       "      <td>Trailer with solar panels on the roof and a #T...</td>\n",
       "      <td>0.000000</td>\n",
       "    </tr>\n",
       "    <tr>\n",
       "      <th>3</th>\n",
       "      <td>Patrick</td>\n",
       "      <td>2019-12-04 06:33:49</td>\n",
       "      <td>Two down days for the market, two up days for ...</td>\n",
       "      <td>-0.155556</td>\n",
       "    </tr>\n",
       "    <tr>\n",
       "      <th>4</th>\n",
       "      <td>EnjeuxÉnergies</td>\n",
       "      <td>2019-12-04 06:33:14</td>\n",
       "      <td>Conversations From Tesla Cybertruck Test Rides...</td>\n",
       "      <td>0.000000</td>\n",
       "    </tr>\n",
       "  </tbody>\n",
       "</table>\n",
       "</div>"
      ],
      "text/plain": [
       "             Name                Time  \\\n",
       "0         2 Cents 2019-12-04 06:43:27   \n",
       "1  Alex Stojkovic 2019-12-04 06:38:56   \n",
       "2           Frank 2019-12-04 06:38:05   \n",
       "3         Patrick 2019-12-04 06:33:49   \n",
       "4  EnjeuxÉnergies 2019-12-04 06:33:14   \n",
       "\n",
       "                                               Tweet  Sentimental  \n",
       "0  *VEHICLE*\\n(Tesla Cybertruck)\\n1 ct = 0-60 in ...    -0.208333  \n",
       "1  Make no mistake, Tesla’s Cybertruck  will comp...     0.100000  \n",
       "2  Trailer with solar panels on the roof and a #T...     0.000000  \n",
       "3  Two down days for the market, two up days for ...    -0.155556  \n",
       "4  Conversations From Tesla Cybertruck Test Rides...     0.000000  "
      ]
     },
     "execution_count": 15,
     "metadata": {},
     "output_type": "execute_result"
    }
   ],
   "source": [
    "df1 = get_related_Tweet('Tesla Cybertruck')   \n",
    "df1['Sentimental'] = df1['Tweet'].apply(lambda tweet: TextBlob(tweet).sentiment.polarity)\n",
    "df1.head()"
   ]
  },
  {
   "cell_type": "code",
   "execution_count": 18,
   "metadata": {},
   "outputs": [
    {
     "name": "stdout",
     "output_type": "stream",
     "text": [
      "The Positive Tweets on Tesla cyberTruck 108\n",
      "The Negative Tweets on Tesla cyberTruck 32\n"
     ]
    }
   ],
   "source": [
    "df_pos = df1[df1['Sentimental'] > 0.0]\n",
    "df_neg = df1[df1['Sentimental'] < 0.0]\n",
    "print(\"The Positive Tweets on Tesla cyberTruck\",len(df_pos))\n",
    "print(\"The Negative Tweets on Tesla cyberTruck\",len(df_neg))"
   ]
  },
  {
   "cell_type": "code",
   "execution_count": 20,
   "metadata": {},
   "outputs": [
    {
     "data": {
      "text/plain": [
       "Text(0.5, 1.0, 'Tesla CyberTruck')"
      ]
     },
     "execution_count": 20,
     "metadata": {},
     "output_type": "execute_result"
    },
    {
     "data": {
      "image/png": "[encoded data removed]",
      "text/plain": [
       "<Figure size 432x288 with 1 Axes>"
      ]
     },
     "metadata": {},
     "output_type": "display_data"
    }
   ],
   "source": [
    "seaborn.set()\n",
    "labels = ['Positive','Negative']\n",
    "heights = [len(df_pos),len(df_neg)]\n",
    "plt.bar(labels,heights,color=\"Navy\")\n",
    "plt.title(\"Tesla CyberTruck\")"
   ]
  }
 ],
 "metadata": {
  "kernelspec": {
   "display_name": "Python 3",
   "language": "python",
   "name": "python3"
  },
  "language_info": {
   "codemirror_mode": {
    "name": "ipython",
    "version": 3
   },
   "file_extension": ".py",
   "mimetype": "text/x-python",
   "name": "python",
   "nbconvert_exporter": "python",
   "pygments_lexer": "ipython3",
   "version": "3.7.3"
  }
 },
 "nbformat": 4,
 "nbformat_minor": 2
}
